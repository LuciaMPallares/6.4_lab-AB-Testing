{
 "cells": [
  {
   "cell_type": "markdown",
   "id": "angry-pearl",
   "metadata": {
    "toc": true
   },
   "source": [
    "<h1>Table of Contents<span class=\"tocSkip\"></span></h1>\n",
    "<div class=\"toc\"><ul class=\"toc-item\"><li><span><a href=\"#AB-Testing\" data-toc-modified-id=\"AB-Testing-1\"><span class=\"toc-item-num\">1&nbsp;&nbsp;</span>AB-Testing</a></span></li></ul></div>"
   ]
  },
  {
   "cell_type": "markdown",
   "id": "c92ba6e0",
   "metadata": {},
   "source": [
    "# AB-Testing\n",
    "\n",
    "![cats](images/cats.jpeg)\n",
    "\n",
    "\n",
    "Imaginad que somos los cientificos de datos de la empresa de videojuegos Tactile Entertainment. Los desarrolladores del juego Cookie Cats pretenden introducir un cambio en el juego para aumentar la retencion de los jugadores. En cierto nivel del juego los jugadores se encuentran una puerta que les obliga a esperar o a pagar la app. Actualmente la puerta se encuentra en nivel 30 y se pretende pasar al nivel 40, para comprobar la retencion a 1 y 7 dias. Antes de realizar el cambio definitivo en el juego se raliza un test AB.\n",
    "\n",
    "Los datos estan alojados en `data/cookie_cats.csv`. Nuestro grupo de control sera la version actual `gate_30` y el grupo de tratamiento sera la version `gate_40`. Debemos realizar el test para 1 dia de retencion `retention_1` y para 7 dias `retention_7`."
   ]
  },
  {
   "cell_type": "code",
   "execution_count": 133,
   "id": "ac3b2f52",
   "metadata": {},
   "outputs": [],
   "source": [
    "# librerias\n",
    "\n",
    "import pandas as pd\n",
    "import numpy as np\n",
    "\n",
    "from statsmodels.stats.proportion import proportions_ztest, proportion_confint\n",
    "from scipy.stats import norm, sem\n",
    "\n",
    "import statsmodels.stats.api as sms\n",
    "\n",
    "import pylab as plt\n",
    "import seaborn as sns\n",
    "\n",
    "%matplotlib inline\n",
    "\n"
   ]
  },
  {
   "cell_type": "code",
   "execution_count": 134,
   "id": "7fe515c2",
   "metadata": {},
   "outputs": [
    {
     "data": {
      "text/html": [
       "<div>\n",
       "<style scoped>\n",
       "    .dataframe tbody tr th:only-of-type {\n",
       "        vertical-align: middle;\n",
       "    }\n",
       "\n",
       "    .dataframe tbody tr th {\n",
       "        vertical-align: top;\n",
       "    }\n",
       "\n",
       "    .dataframe thead th {\n",
       "        text-align: right;\n",
       "    }\n",
       "</style>\n",
       "<table border=\"1\" class=\"dataframe\">\n",
       "  <thead>\n",
       "    <tr style=\"text-align: right;\">\n",
       "      <th></th>\n",
       "      <th>userid</th>\n",
       "      <th>version</th>\n",
       "      <th>sum_gamerounds</th>\n",
       "      <th>retention_1</th>\n",
       "      <th>retention_7</th>\n",
       "    </tr>\n",
       "  </thead>\n",
       "  <tbody>\n",
       "    <tr>\n",
       "      <th>0</th>\n",
       "      <td>116</td>\n",
       "      <td>gate_30</td>\n",
       "      <td>3</td>\n",
       "      <td>False</td>\n",
       "      <td>False</td>\n",
       "    </tr>\n",
       "    <tr>\n",
       "      <th>1</th>\n",
       "      <td>337</td>\n",
       "      <td>gate_30</td>\n",
       "      <td>38</td>\n",
       "      <td>True</td>\n",
       "      <td>False</td>\n",
       "    </tr>\n",
       "    <tr>\n",
       "      <th>2</th>\n",
       "      <td>377</td>\n",
       "      <td>gate_40</td>\n",
       "      <td>165</td>\n",
       "      <td>True</td>\n",
       "      <td>False</td>\n",
       "    </tr>\n",
       "    <tr>\n",
       "      <th>3</th>\n",
       "      <td>483</td>\n",
       "      <td>gate_40</td>\n",
       "      <td>1</td>\n",
       "      <td>False</td>\n",
       "      <td>False</td>\n",
       "    </tr>\n",
       "    <tr>\n",
       "      <th>4</th>\n",
       "      <td>488</td>\n",
       "      <td>gate_40</td>\n",
       "      <td>179</td>\n",
       "      <td>True</td>\n",
       "      <td>True</td>\n",
       "    </tr>\n",
       "    <tr>\n",
       "      <th>5</th>\n",
       "      <td>540</td>\n",
       "      <td>gate_40</td>\n",
       "      <td>187</td>\n",
       "      <td>True</td>\n",
       "      <td>True</td>\n",
       "    </tr>\n",
       "    <tr>\n",
       "      <th>6</th>\n",
       "      <td>1066</td>\n",
       "      <td>gate_30</td>\n",
       "      <td>0</td>\n",
       "      <td>False</td>\n",
       "      <td>False</td>\n",
       "    </tr>\n",
       "    <tr>\n",
       "      <th>7</th>\n",
       "      <td>1444</td>\n",
       "      <td>gate_40</td>\n",
       "      <td>2</td>\n",
       "      <td>False</td>\n",
       "      <td>False</td>\n",
       "    </tr>\n",
       "    <tr>\n",
       "      <th>8</th>\n",
       "      <td>1574</td>\n",
       "      <td>gate_40</td>\n",
       "      <td>108</td>\n",
       "      <td>True</td>\n",
       "      <td>True</td>\n",
       "    </tr>\n",
       "    <tr>\n",
       "      <th>9</th>\n",
       "      <td>1587</td>\n",
       "      <td>gate_40</td>\n",
       "      <td>153</td>\n",
       "      <td>True</td>\n",
       "      <td>False</td>\n",
       "    </tr>\n",
       "  </tbody>\n",
       "</table>\n",
       "</div>"
      ],
      "text/plain": [
       "   userid  version  sum_gamerounds  retention_1  retention_7\n",
       "0     116  gate_30               3        False        False\n",
       "1     337  gate_30              38         True        False\n",
       "2     377  gate_40             165         True        False\n",
       "3     483  gate_40               1        False        False\n",
       "4     488  gate_40             179         True         True\n",
       "5     540  gate_40             187         True         True\n",
       "6    1066  gate_30               0        False        False\n",
       "7    1444  gate_40               2        False        False\n",
       "8    1574  gate_40             108         True         True\n",
       "9    1587  gate_40             153         True        False"
      ]
     },
     "execution_count": 134,
     "metadata": {},
     "output_type": "execute_result"
    }
   ],
   "source": [
    "# datos\n",
    "df2= pd.read_csv('data/cookie_cats.csv')\n",
    "df=df2.copy()\n",
    "df.head(10)"
   ]
  },
  {
   "cell_type": "code",
   "execution_count": 135,
   "id": "88df7918",
   "metadata": {},
   "outputs": [
    {
     "name": "stdout",
     "output_type": "stream",
     "text": [
      "<class 'pandas.core.frame.DataFrame'>\n",
      "RangeIndex: 90189 entries, 0 to 90188\n",
      "Data columns (total 5 columns):\n",
      " #   Column          Non-Null Count  Dtype \n",
      "---  ------          --------------  ----- \n",
      " 0   userid          90189 non-null  int64 \n",
      " 1   version         90189 non-null  object\n",
      " 2   sum_gamerounds  90189 non-null  int64 \n",
      " 3   retention_1     90189 non-null  bool  \n",
      " 4   retention_7     90189 non-null  bool  \n",
      "dtypes: bool(2), int64(2), object(1)\n",
      "memory usage: 2.2+ MB\n"
     ]
    }
   ],
   "source": [
    "df.info()\n"
   ]
  },
  {
   "cell_type": "code",
   "execution_count": 136,
   "id": "ebe6ea47",
   "metadata": {},
   "outputs": [
    {
     "data": {
      "text/html": [
       "<div>\n",
       "<style scoped>\n",
       "    .dataframe tbody tr th:only-of-type {\n",
       "        vertical-align: middle;\n",
       "    }\n",
       "\n",
       "    .dataframe tbody tr th {\n",
       "        vertical-align: top;\n",
       "    }\n",
       "\n",
       "    .dataframe thead th {\n",
       "        text-align: right;\n",
       "    }\n",
       "</style>\n",
       "<table border=\"1\" class=\"dataframe\">\n",
       "  <thead>\n",
       "    <tr style=\"text-align: right;\">\n",
       "      <th>retention_1</th>\n",
       "      <th>False</th>\n",
       "      <th>True</th>\n",
       "    </tr>\n",
       "    <tr>\n",
       "      <th>version</th>\n",
       "      <th></th>\n",
       "      <th></th>\n",
       "    </tr>\n",
       "  </thead>\n",
       "  <tbody>\n",
       "    <tr>\n",
       "      <th>gate_30</th>\n",
       "      <td>24666</td>\n",
       "      <td>20034</td>\n",
       "    </tr>\n",
       "    <tr>\n",
       "      <th>gate_40</th>\n",
       "      <td>25370</td>\n",
       "      <td>20119</td>\n",
       "    </tr>\n",
       "  </tbody>\n",
       "</table>\n",
       "</div>"
      ],
      "text/plain": [
       "retention_1  False   True\n",
       "version                  \n",
       "gate_30      24666  20034\n",
       "gate_40      25370  20119"
      ]
     },
     "execution_count": 136,
     "metadata": {},
     "output_type": "execute_result"
    }
   ],
   "source": [
    "pd.crosstab(df.version, df.retention_1) #crosstab devuelve una tabla resultante de cruzar 2 o mas campos de df.sumatorio"
   ]
  },
  {
   "cell_type": "code",
   "execution_count": 137,
   "id": "43c97033",
   "metadata": {},
   "outputs": [
    {
     "data": {
      "image/png": "[encoded data removed]",
      "text/plain": [
       "<Figure size 432x288 with 1 Axes>"
      ]
     },
     "metadata": {
      "needs_background": "light"
     },
     "output_type": "display_data"
    }
   ],
   "source": [
    "pd.crosstab(df.version, df.retention_1).plot(kind='bar');"
   ]
  },
  {
   "cell_type": "code",
   "execution_count": 138,
   "id": "7ac3040c",
   "metadata": {},
   "outputs": [
    {
     "data": {
      "text/plain": [
       "gate_40    45489\n",
       "gate_30    44700\n",
       "Name: version, dtype: int64"
      ]
     },
     "execution_count": 138,
     "metadata": {},
     "output_type": "execute_result"
    }
   ],
   "source": [
    "df.version.value_counts() #necesito el total para establecer la muestra. Cogemos el minimo porque tiene q ser igual\n"
   ]
  },
  {
   "cell_type": "code",
   "execution_count": 139,
   "id": "2f51280f",
   "metadata": {},
   "outputs": [
    {
     "data": {
      "text/plain": [
       "version\n",
       "gate_30    20034\n",
       "gate_40    20119\n",
       "Name: retention_1, dtype: int64"
      ]
     },
     "execution_count": 139,
     "metadata": {},
     "output_type": "execute_result"
    }
   ],
   "source": [
    "df.groupby('version').retention_1.sum() #aqui me daría solo los verdaderos que es lo que puede sumar. NO INTERESA AHORA"
   ]
  },
  {
   "cell_type": "code",
   "execution_count": 140,
   "id": "9f30d622",
   "metadata": {},
   "outputs": [
    {
     "data": {
      "text/plain": [
       "0"
      ]
     },
     "execution_count": 140,
     "metadata": {},
     "output_type": "execute_result"
    }
   ],
   "source": [
    "df.userid.duplicated().sum() #nos dice si hay duplicados en el id, como abajo, pero abajo los hubiera borrado"
   ]
  },
  {
   "cell_type": "code",
   "execution_count": 141,
   "id": "c6d34909",
   "metadata": {},
   "outputs": [
    {
     "data": {
      "text/plain": [
       "userid   version  sum_gamerounds  retention_1  retention_7\n",
       "116      gate_30  3               False        False          1\n",
       "6632278  gate_40  4               False        False          1\n",
       "6658202  gate_40  9               False        False          1\n",
       "6658194  gate_40  1               False        False          1\n",
       "6658134  gate_40  112             True         False          1\n",
       "                                                             ..\n",
       "3347358  gate_40  0               False        False          1\n",
       "3347337  gate_40  3               False        False          1\n",
       "3346992  gate_40  185             True         False          1\n",
       "3346979  gate_30  38              True         True           1\n",
       "9999861  gate_40  16              False        False          1\n",
       "Length: 90189, dtype: int64"
      ]
     },
     "execution_count": 141,
     "metadata": {},
     "output_type": "execute_result"
    }
   ],
   "source": [
    "df.drop_duplicates().value_counts() #confirmamos si hay duplicados, si hubiera los borraba, como no hay, devuelve datos"
   ]
  },
  {
   "cell_type": "code",
   "execution_count": 142,
   "id": "38f422cb",
   "metadata": {},
   "outputs": [
    {
     "data": {
      "text/html": [
       "<div>\n",
       "<style scoped>\n",
       "    .dataframe tbody tr th:only-of-type {\n",
       "        vertical-align: middle;\n",
       "    }\n",
       "\n",
       "    .dataframe tbody tr th {\n",
       "        vertical-align: top;\n",
       "    }\n",
       "\n",
       "    .dataframe thead th {\n",
       "        text-align: right;\n",
       "    }\n",
       "</style>\n",
       "<table border=\"1\" class=\"dataframe\">\n",
       "  <thead>\n",
       "    <tr style=\"text-align: right;\">\n",
       "      <th></th>\n",
       "      <th>userid</th>\n",
       "      <th>version</th>\n",
       "      <th>sum_gamerounds</th>\n",
       "      <th>retention_1</th>\n",
       "      <th>retention_7</th>\n",
       "    </tr>\n",
       "  </thead>\n",
       "  <tbody>\n",
       "    <tr>\n",
       "      <th>0</th>\n",
       "      <td>6531033</td>\n",
       "      <td>gate_30</td>\n",
       "      <td>35</td>\n",
       "      <td>False</td>\n",
       "      <td>False</td>\n",
       "    </tr>\n",
       "    <tr>\n",
       "      <th>1</th>\n",
       "      <td>8003009</td>\n",
       "      <td>gate_30</td>\n",
       "      <td>4</td>\n",
       "      <td>False</td>\n",
       "      <td>False</td>\n",
       "    </tr>\n",
       "    <tr>\n",
       "      <th>2</th>\n",
       "      <td>5566807</td>\n",
       "      <td>gate_30</td>\n",
       "      <td>23</td>\n",
       "      <td>True</td>\n",
       "      <td>False</td>\n",
       "    </tr>\n",
       "    <tr>\n",
       "      <th>3</th>\n",
       "      <td>64235</td>\n",
       "      <td>gate_30</td>\n",
       "      <td>1</td>\n",
       "      <td>False</td>\n",
       "      <td>False</td>\n",
       "    </tr>\n",
       "    <tr>\n",
       "      <th>4</th>\n",
       "      <td>6210551</td>\n",
       "      <td>gate_30</td>\n",
       "      <td>7</td>\n",
       "      <td>False</td>\n",
       "      <td>False</td>\n",
       "    </tr>\n",
       "  </tbody>\n",
       "</table>\n",
       "</div>"
      ],
      "text/plain": [
       "    userid  version  sum_gamerounds  retention_1  retention_7\n",
       "0  6531033  gate_30              35        False        False\n",
       "1  8003009  gate_30               4        False        False\n",
       "2  5566807  gate_30              23         True        False\n",
       "3    64235  gate_30               1        False        False\n",
       "4  6210551  gate_30               7        False        False"
      ]
     },
     "execution_count": 142,
     "metadata": {},
     "output_type": "execute_result"
    }
   ],
   "source": [
    "# muestreo\n",
    "control = df[df.version =='gate_30'].sample(n=44700, random_state=42) #random state es para que siempre coja los mismo id \n",
    "                                                                #(es para el ejerc para no ejecturae y que cambie\n",
    "                                                                #en la realidad no se hace)\n",
    "\n",
    "tratamiento = df[df.version=='gate_40'].sample(n=44700, random_state=42)\n",
    "\n",
    "ab_test = pd.concat([control, tratamiento], axis=0)  #crea un df con contro y tratamiento\n",
    "\n",
    "ab_test.reset_index(drop=True, inplace=True)\n",
    "\n",
    "ab_test.head()"
   ]
  },
  {
   "cell_type": "code",
   "execution_count": 143,
   "id": "8cbabc81",
   "metadata": {},
   "outputs": [
    {
     "data": {
      "text/html": [
       "<style type=\"text/css\">\n",
       "</style>\n",
       "<table id=\"T_e8114\">\n",
       "  <thead>\n",
       "    <tr>\n",
       "      <th class=\"blank level0\" >&nbsp;</th>\n",
       "      <th id=\"T_e8114_level0_col0\" class=\"col_heading level0 col0\" >conversion_rate</th>\n",
       "      <th id=\"T_e8114_level0_col1\" class=\"col_heading level0 col1\" >std</th>\n",
       "    </tr>\n",
       "    <tr>\n",
       "      <th class=\"index_name level0\" >version</th>\n",
       "      <th class=\"blank col0\" >&nbsp;</th>\n",
       "      <th class=\"blank col1\" >&nbsp;</th>\n",
       "    </tr>\n",
       "  </thead>\n",
       "  <tbody>\n",
       "    <tr>\n",
       "      <th id=\"T_e8114_level0_row0\" class=\"row_heading level0 row0\" >gate_30</th>\n",
       "      <td id=\"T_e8114_row0_col0\" class=\"data row0 col0\" >0.448</td>\n",
       "      <td id=\"T_e8114_row0_col1\" class=\"data row0 col1\" >0.497</td>\n",
       "    </tr>\n",
       "    <tr>\n",
       "      <th id=\"T_e8114_level0_row1\" class=\"row_heading level0 row1\" >gate_40</th>\n",
       "      <td id=\"T_e8114_row1_col0\" class=\"data row1 col0\" >0.443</td>\n",
       "      <td id=\"T_e8114_row1_col1\" class=\"data row1 col1\" >0.497</td>\n",
       "    </tr>\n",
       "  </tbody>\n",
       "</table>\n"
      ],
      "text/plain": [
       "<pandas.io.formats.style.Styler at 0x2149746b970>"
      ]
     },
     "execution_count": 143,
     "metadata": {},
     "output_type": "execute_result"
    }
   ],
   "source": [
    "#Visualizacion\n",
    "tasas_conversion=ab_test.groupby('version')['retention_1']  \n",
    "\n",
    "\n",
    "\n",
    "#std=lambda x: np.std(x, ddof=0)    # averigua el std con lambda para que no se nos olvide, es lo mismo np.std\n",
    "\n",
    "\n",
    "\n",
    "tasas_conversion=tasas_conversion.agg([np.mean, np.std])\n",
    "tasas_conversion.columns=['conversion_rate', 'std']   #comprobamos la conversion y vemos que la web antigua ni llega a lo que había dicho\n",
    "\n",
    "\n",
    "tasas_conversion.style.format('{:.3f}') "
   ]
  },
  {
   "cell_type": "code",
   "execution_count": 144,
   "id": "46b072e8",
   "metadata": {},
   "outputs": [
    {
     "data": {
      "image/png": "[encoded data removed]",
      "text/plain": [
       "<Figure size 576x432 with 1 Axes>"
      ]
     },
     "metadata": {
      "needs_background": "light"
     },
     "output_type": "display_data"
    }
   ],
   "source": [
    "plt.figure(figsize=(8,6))   #NO ENSEÑA NADA, NO SIRVE PA NA\n",
    "\n",
    "sns.barplot(x=ab_test['version'], \n",
    "            y=ab_test['retention_1'])\n",
    "\n",
    "#plt.ylim(0, 0.17)\n",
    "plt.title('Tasa de conversión por puerta')\n",
    "plt.xlabel('Puertas')\n",
    "plt.ylabel('Conversion)');"
   ]
  },
  {
   "cell_type": "code",
   "execution_count": 145,
   "id": "5b90c429",
   "metadata": {},
   "outputs": [
    {
     "data": {
      "text/plain": [
       "0        False\n",
       "1        False\n",
       "2         True\n",
       "3        False\n",
       "4        False\n",
       "         ...  \n",
       "44695     True\n",
       "44696     True\n",
       "44697    False\n",
       "44698    False\n",
       "44699    False\n",
       "Name: retention_1, Length: 44700, dtype: bool"
      ]
     },
     "execution_count": 145,
     "metadata": {},
     "output_type": "execute_result"
    }
   ],
   "source": [
    "# testeo para retention_1\n",
    "\n",
    "control_res=ab_test[ab_test.version=='gate_30']['retention_1']\n",
    "\n",
    "trat_res=ab_test[ab_test.version=='gate_40']['retention_1'] \n",
    "control_res"
   ]
  },
  {
   "cell_type": "code",
   "execution_count": 146,
   "id": "e81d0659",
   "metadata": {},
   "outputs": [
    {
     "data": {
      "text/plain": [
       "[44700, 44700]"
      ]
     },
     "execution_count": 146,
     "metadata": {},
     "output_type": "execute_result"
    }
   ],
   "source": [
    "observaciones = [44700, 44700]  #ES EL COUNT DE LA MUESTRA\n",
    "observaciones\n"
   ]
  },
  {
   "cell_type": "code",
   "execution_count": 147,
   "id": "e852f82a",
   "metadata": {},
   "outputs": [
    {
     "data": {
      "text/plain": [
       "[20034, 19783]"
      ]
     },
     "execution_count": 147,
     "metadata": {},
     "output_type": "execute_result"
    }
   ],
   "source": [
    "conversiones=[control_res.sum(), trat_res.sum()]  # conversiones por grupo. Suma lo True\n",
    "conversiones"
   ]
  },
  {
   "cell_type": "code",
   "execution_count": 148,
   "id": "49fc955a",
   "metadata": {},
   "outputs": [
    {
     "data": {
      "text/plain": [
       "version\n",
       "gate_30    20034\n",
       "gate_40    19783\n",
       "Name: retention_1, dtype: int64"
      ]
     },
     "execution_count": 148,
     "metadata": {},
     "output_type": "execute_result"
    }
   ],
   "source": [
    "ab_test.groupby('version').retention_1.sum()  #TAMBIEN SE PUEDE HACER ASI"
   ]
  },
  {
   "cell_type": "code",
   "execution_count": 149,
   "id": "909b44d4",
   "metadata": {},
   "outputs": [
    {
     "data": {
      "text/plain": [
       "0.09121036470055781"
      ]
     },
     "execution_count": 149,
     "metadata": {},
     "output_type": "execute_result"
    }
   ],
   "source": [
    "z_score, p_valor = proportions_ztest(conversiones, nobs=observaciones) #DEVUELVE ESTADISTICA Y PROBABILIDAD\n",
    "p_valor"
   ]
  },
  {
   "cell_type": "code",
   "execution_count": 150,
   "id": "02ef8faf",
   "metadata": {},
   "outputs": [
    {
     "data": {
      "text/plain": [
       "1.6890473061671334"
      ]
     },
     "execution_count": 150,
     "metadata": {},
     "output_type": "execute_result"
    }
   ],
   "source": [
    "z_score"
   ]
  },
  {
   "cell_type": "code",
   "execution_count": 151,
   "id": "c733f075",
   "metadata": {},
   "outputs": [
    {
     "name": "stdout",
     "output_type": "stream",
     "text": [
      "z-score: 1.69\n",
      "p-valor: 0.091\n",
      "intervalo conf 95% para grupo control: [0.444, 0.453]\n",
      "intervalo conf 95% para grupo tratamiento: [0.438, 0.447]\n"
     ]
    }
   ],
   "source": [
    "# intervalos de confianza\n",
    "(control_lower, tratamiento_lower), (control_upper, tratamiento_upper) = proportion_confint(conversiones, \n",
    "                                                                            nobs=observaciones,\n",
    "                                                                            alpha=0.05)\n",
    "print(f'z-score: {z_score:.2f}')\n",
    "print(f'p-valor: {p_valor:.3f}')\n",
    "print(f'intervalo conf 95% para grupo control: [{control_lower:.3f}, {control_upper:.3f}]')\n",
    "print(f'intervalo conf 95% para grupo tratamiento: [{tratamiento_lower:.3f}, {tratamiento_upper:.3f}]')"
   ]
  },
  {
   "cell_type": "code",
   "execution_count": 152,
   "id": "86c0caad",
   "metadata": {},
   "outputs": [
    {
     "data": {
      "text/html": [
       "<div>\n",
       "<style scoped>\n",
       "    .dataframe tbody tr th:only-of-type {\n",
       "        vertical-align: middle;\n",
       "    }\n",
       "\n",
       "    .dataframe tbody tr th {\n",
       "        vertical-align: top;\n",
       "    }\n",
       "\n",
       "    .dataframe thead th {\n",
       "        text-align: right;\n",
       "    }\n",
       "</style>\n",
       "<table border=\"1\" class=\"dataframe\">\n",
       "  <thead>\n",
       "    <tr style=\"text-align: right;\">\n",
       "      <th>retention_7</th>\n",
       "      <th>False</th>\n",
       "      <th>True</th>\n",
       "    </tr>\n",
       "    <tr>\n",
       "      <th>version</th>\n",
       "      <th></th>\n",
       "      <th></th>\n",
       "    </tr>\n",
       "  </thead>\n",
       "  <tbody>\n",
       "    <tr>\n",
       "      <th>gate_30</th>\n",
       "      <td>36198</td>\n",
       "      <td>8502</td>\n",
       "    </tr>\n",
       "    <tr>\n",
       "      <th>gate_40</th>\n",
       "      <td>37210</td>\n",
       "      <td>8279</td>\n",
       "    </tr>\n",
       "  </tbody>\n",
       "</table>\n",
       "</div>"
      ],
      "text/plain": [
       "retention_7  False  True\n",
       "version                 \n",
       "gate_30      36198  8502\n",
       "gate_40      37210  8279"
      ]
     },
     "execution_count": 152,
     "metadata": {},
     "output_type": "execute_result"
    }
   ],
   "source": [
    "# testeo para retention_7\n",
    "pd.crosstab(df.version, df.retention_7)"
   ]
  },
  {
   "cell_type": "code",
   "execution_count": 153,
   "id": "adba4c8b",
   "metadata": {},
   "outputs": [
    {
     "data": {
      "image/png": "[encoded data removed]",
      "text/plain": [
       "<Figure size 432x288 with 1 Axes>"
      ]
     },
     "metadata": {
      "needs_background": "light"
     },
     "output_type": "display_data"
    }
   ],
   "source": [
    "pd.crosstab(df.version, df.retention_7).plot(kind='bar');"
   ]
  },
  {
   "cell_type": "code",
   "execution_count": 154,
   "id": "c6c72d8d",
   "metadata": {},
   "outputs": [
    {
     "data": {
      "text/html": [
       "<style type=\"text/css\">\n",
       "</style>\n",
       "<table id=\"T_728cf\">\n",
       "  <thead>\n",
       "    <tr>\n",
       "      <th class=\"blank level0\" >&nbsp;</th>\n",
       "      <th id=\"T_728cf_level0_col0\" class=\"col_heading level0 col0\" >conversion_rate</th>\n",
       "      <th id=\"T_728cf_level0_col1\" class=\"col_heading level0 col1\" >std</th>\n",
       "    </tr>\n",
       "    <tr>\n",
       "      <th class=\"index_name level0\" >version</th>\n",
       "      <th class=\"blank col0\" >&nbsp;</th>\n",
       "      <th class=\"blank col1\" >&nbsp;</th>\n",
       "    </tr>\n",
       "  </thead>\n",
       "  <tbody>\n",
       "    <tr>\n",
       "      <th id=\"T_728cf_level0_row0\" class=\"row_heading level0 row0\" >gate_30</th>\n",
       "      <td id=\"T_728cf_row0_col0\" class=\"data row0 col0\" >0.190</td>\n",
       "      <td id=\"T_728cf_row0_col1\" class=\"data row0 col1\" >0.392</td>\n",
       "    </tr>\n",
       "    <tr>\n",
       "      <th id=\"T_728cf_level0_row1\" class=\"row_heading level0 row1\" >gate_40</th>\n",
       "      <td id=\"T_728cf_row1_col0\" class=\"data row1 col0\" >0.182</td>\n",
       "      <td id=\"T_728cf_row1_col1\" class=\"data row1 col1\" >0.386</td>\n",
       "    </tr>\n",
       "  </tbody>\n",
       "</table>\n"
      ],
      "text/plain": [
       "<pandas.io.formats.style.Styler at 0x214a29f4220>"
      ]
     },
     "execution_count": 154,
     "metadata": {},
     "output_type": "execute_result"
    }
   ],
   "source": [
    "#Visualizacion\n",
    "tasas_conversion=ab_test.groupby('version')['retention_7']  \n",
    "\n",
    "\n",
    "\n",
    "#std=lambda x: np.std(x, ddof=0)    # averigua el std con lambda para que no se nos olvide, es lo mismo np.std\n",
    "\n",
    "\n",
    "\n",
    "tasas_conversion=tasas_conversion.agg([np.mean, np.std])\n",
    "tasas_conversion.columns=['conversion_rate', 'std']   #comprobamos la conversion y vemos que la web antigua ni llega a lo que había dicho\n",
    "\n",
    "\n",
    "tasas_conversion.style.format('{:.3f}') "
   ]
  },
  {
   "cell_type": "code",
   "execution_count": 155,
   "id": "a048a711",
   "metadata": {},
   "outputs": [
    {
     "data": {
      "text/plain": [
       "44700    False\n",
       "44701    False\n",
       "44702    False\n",
       "44703    False\n",
       "44704    False\n",
       "         ...  \n",
       "89395    False\n",
       "89396    False\n",
       "89397    False\n",
       "89398    False\n",
       "89399     True\n",
       "Name: retention_7, Length: 44700, dtype: bool"
      ]
     },
     "execution_count": 155,
     "metadata": {},
     "output_type": "execute_result"
    }
   ],
   "source": [
    "\n",
    "control_res=ab_test[ab_test.version=='gate_30']['retention_7']\n",
    "\n",
    "trat_res=ab_test[ab_test.version=='gate_40']['retention_7'] \n",
    "trat_res\n"
   ]
  },
  {
   "cell_type": "code",
   "execution_count": 156,
   "id": "038a3ec8",
   "metadata": {},
   "outputs": [
    {
     "data": {
      "text/plain": [
       "[8502, 8155]"
      ]
     },
     "execution_count": 156,
     "metadata": {},
     "output_type": "execute_result"
    }
   ],
   "source": [
    "observaciones= [44700, 44700]\n",
    "conversiones=[control_res.sum(), trat_res.sum()]  # conversiones por grupo. Suma lo True\n",
    "conversiones"
   ]
  },
  {
   "cell_type": "code",
   "execution_count": 157,
   "id": "2f6e35a1",
   "metadata": {},
   "outputs": [
    {
     "data": {
      "text/plain": [
       "(0.002876808101694685, 2.9806037079284167)"
      ]
     },
     "execution_count": 157,
     "metadata": {},
     "output_type": "execute_result"
    }
   ],
   "source": [
    "z_score, p_valor = proportions_ztest(conversiones, nobs=observaciones)\n",
    "p_valor, z_score"
   ]
  },
  {
   "cell_type": "code",
   "execution_count": 158,
   "id": "3999ded2",
   "metadata": {},
   "outputs": [
    {
     "name": "stdout",
     "output_type": "stream",
     "text": [
      "z-score: 2.98\n",
      "p-valor: 0.003\n",
      "intervalo conf 95% para grupo control: [0.187, 0.194]\n",
      "intervalo conf 95% para grupo tratamiento: [0.179, 0.186]\n"
     ]
    }
   ],
   "source": [
    "# intervalos de confianza\n",
    "(control_lower, tratamiento_lower), (control_upper, tratamiento_upper) = proportion_confint(conversiones, \n",
    "                                                                            nobs=observaciones,\n",
    "                                                                            alpha=0.05)\n",
    "print(f'z-score: {z_score:.2f}')\n",
    "print(f'p-valor: {p_valor:.3f}')\n",
    "print(f'intervalo conf 95% para grupo control: [{control_lower:.3f}, {control_upper:.3f}]')\n",
    "print(f'intervalo conf 95% para grupo tratamiento: [{tratamiento_lower:.3f}, {tratamiento_upper:.3f}]')"
   ]
  },
  {
   "cell_type": "code",
   "execution_count": null,
   "id": "cooked-magnet",
   "metadata": {},
   "outputs": [],
   "source": [
    "# conclusiones\n",
    "# Explica detalladamente las conclusiones obtenidas de. tu testeo.\n",
    "\n",
    "'''los datos finales nos indican que la retención de 1 día es p-valor: 0.091 se encuentran por encima del 0.05 \n",
    "del nivel de significancia como en la retención de 7 días la probabilidad de estadística  por lo que no hay datos \n",
    "que sugieran una mejora cambiando a gate_40. Los resultados del estduio a 7 días sugieren que podría modificarse a \n",
    "gate_40 con mejoras, el datos es tan tan pequeño que no da ninguna seguridad que el \n",
    "cambio suponga una meoría y cuánto. \n",
    "Por tanto recomendamos continuar con gate_30.\n"
   ]
  }
 ],
 "metadata": {
  "finalized": {
   "timestamp": 1642857010293,
   "trusted": true
  },
  "kernelspec": {
   "display_name": "Python 3 (ipykernel)",
   "language": "python",
   "name": "python3"
  },
  "language_info": {
   "codemirror_mode": {
    "name": "ipython",
    "version": 3
   },
   "file_extension": ".py",
   "mimetype": "text/x-python",
   "name": "python",
   "nbconvert_exporter": "python",
   "pygments_lexer": "ipython3",
   "version": "3.9.12"
  },
  "toc": {
   "base_numbering": 1,
   "nav_menu": {},
   "number_sections": true,
   "sideBar": true,
   "skip_h1_title": false,
   "title_cell": "Table of Contents",
   "title_sidebar": "Contents",
   "toc_cell": true,
   "toc_position": {},
   "toc_section_display": true,
   "toc_window_display": false
  },
  "varInspector": {
   "cols": {
    "lenName": 16,
    "lenType": 16,
    "lenVar": 40
   },
   "kernels_config": {
    "python": {
     "delete_cmd_postfix": "",
     "delete_cmd_prefix": "del ",
     "library": "var_list.py",
     "varRefreshCmd": "print(var_dic_list())"
    },
    "r": {
     "delete_cmd_postfix": ") ",
     "delete_cmd_prefix": "rm(",
     "library": "var_list.r",
     "varRefreshCmd": "cat(var_dic_list()) "
    }
   },
   "types_to_exclude": [
    "module",
    "function",
    "builtin_function_or_method",
    "instance",
    "_Feature"
   ],
   "window_display": false
  }
 },
 "nbformat": 4,
 "nbformat_minor": 5
}
